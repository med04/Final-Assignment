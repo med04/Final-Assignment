{
 "cells": [
  {
   "cell_type": "markdown",
   "id": "b64b623f",
   "metadata": {},
   "source": [
    "<h1>Data Science Tools and Ecosystem</h1>"
   ]
  },
  {
   "cell_type": "markdown",
   "id": "8daf68e6",
   "metadata": {},
   "source": [
    "<p>In this notebook, Data Science Tools and Ecosystem are summarized.</p>"
   ]
  },
  {
   "cell_type": "markdown",
   "id": "83a2606e",
   "metadata": {},
   "source": [
    "<p>Some of the popular languages that Data Scientists use are:</p>\n",
    "<ol type= \"1\">\n",
    "    <li>Python.</li>\n",
    "    <li>Julia.</li>\n",
    "    <li>R.</li>\n",
    "    <li>JavaScript.</li>\n",
    "    <li>C++.</li>\n",
    "</ol>    "
   ]
  },
  {
   "cell_type": "markdown",
   "id": "edb8cf16",
   "metadata": {},
   "source": [
    "<p>Some of the popular languages that Data Scientists use are:</p>\n",
    "<ol type= \"1\">\n",
    "    <li>NumPy.</li>\n",
    "    <li>Tensorflow.</li>\n",
    "    <li>Pandas.</li>\n",
    "    <li>Matplotlib.</li>\n",
    "    <li>Scikit-learn.</li>\n",
    "</ol>  "
   ]
  },
  {
   "cell_type": "markdown",
   "id": "989b9f94",
   "metadata": {},
   "source": [
    "<table style= \"width: 100%\">\n",
    "    <tr>\n",
    "        <th  style = \"text-align: left\">Data Science Tools</th>\n",
    "    </tr>\n",
    "    <tr>\n",
    "        <td  style = \"text-align: left\">RStudio</td>\n",
    "    </tr>    \n",
    "    <tr>\n",
    "        <td  style = \"text-align: left\">Jupyter Notebook</td>\n",
    "    </tr> \n",
    "    <tr>\n",
    "        <td  style = \"text-align: left\">Zeppelin Notebook</td>\n",
    "    </tr> \n",
    "</table>    "
   ]
  },
  {
   "cell_type": "markdown",
   "id": "2de042ea",
   "metadata": {},
   "source": [
    "<h3>Below are a few examples of evaluating arithmetic expressions in Python.</h3>"
   ]
  },
  {
   "cell_type": "code",
   "execution_count": 8,
   "id": "aace588c",
   "metadata": {},
   "outputs": [
    {
     "name": "stdout",
     "output_type": "stream",
     "text": [
      "Addition:  30\n",
      "Multiplication:  200\n",
      "Division:  2.0\n",
      "Soustraction:  10\n",
      "Modulo:  0\n"
     ]
    }
   ],
   "source": [
    "a = 20\n",
    "b = 10\n",
    "\n",
    "# Addition\n",
    "print(\"Addition: \", a+b)\n",
    "\n",
    "# Multiplication \n",
    "print(\"Multiplication: \", a*b)\n",
    "\n",
    "# Division\n",
    "print(\"Division: \", a/b)\n",
    "\n",
    "# Soustraction \n",
    "print(\"Soustraction: \", a-b)\n",
    "\n",
    "# Modulo\n",
    "print(\"Modulo: \", a%b)"
   ]
  },
  {
   "cell_type": "code",
   "execution_count": 9,
   "id": "3bcdfa8b",
   "metadata": {},
   "outputs": [
    {
     "data": {
      "text/plain": [
       "17"
      ]
     },
     "execution_count": 9,
     "metadata": {},
     "output_type": "execute_result"
    }
   ],
   "source": [
    "# This a simple arithmetic expression to mutiply then add integers.\n",
    "(3*4)+5"
   ]
  },
  {
   "cell_type": "code",
   "execution_count": 10,
   "id": "258b3dc4",
   "metadata": {},
   "outputs": [
    {
     "data": {
      "text/plain": [
       "3.3333333333333335"
      ]
     },
     "execution_count": 10,
     "metadata": {},
     "output_type": "execute_result"
    }
   ],
   "source": [
    "# This will convert 200 minutes to hours by diving by 60.\n",
    "minutes = 200\n",
    "hours = minutes/60\n",
    "hours"
   ]
  },
  {
   "cell_type": "markdown",
   "id": "6e0b5ba9",
   "metadata": {},
   "source": [
    "<b>Objectives:</b>\n",
    "<ul>\n",
    "    <li>List popular languages for Data Science.</li>\n",
    "    <li>List different categories of tools for Data Science.</li>\n",
    "    <li>List various libraries used for Data Science.</li>\n",
    "    <li>List API's, Datasets and Models.</li>\n",
    "    <li>List development environment open source tools used in data science.</li>\n",
    "</ul>    "
   ]
  },
  {
   "cell_type": "markdown",
   "id": "90e829eb",
   "metadata": {},
   "source": [
    "<h2>Author:</h2>\n",
    "Chahboune Ahmed"
   ]
  },
  {
   "cell_type": "code",
   "execution_count": null,
   "id": "3744e1fb",
   "metadata": {},
   "outputs": [],
   "source": []
  }
 ],
 "metadata": {
  "kernelspec": {
   "display_name": "Python 3 (ipykernel)",
   "language": "python",
   "name": "python3"
  },
  "language_info": {
   "codemirror_mode": {
    "name": "ipython",
    "version": 3
   },
   "file_extension": ".py",
   "mimetype": "text/x-python",
   "name": "python",
   "nbconvert_exporter": "python",
   "pygments_lexer": "ipython3",
   "version": "3.9.7"
  }
 },
 "nbformat": 4,
 "nbformat_minor": 5
}
